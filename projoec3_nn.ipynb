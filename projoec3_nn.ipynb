{
  "nbformat": 4,
  "nbformat_minor": 0,
  "metadata": {
    "colab": {
      "name": "projoec3_nn.ipynb",
      "provenance": [],
      "collapsed_sections": []
    },
    "kernelspec": {
      "name": "python3",
      "display_name": "Python 3"
    },
    "language_info": {
      "name": "python"
    }
  },
  "cells": [
    {
      "cell_type": "code",
      "metadata": {
        "id": "-DIgnzn0oK-i",
        "colab": {
          "base_uri": "https://localhost:8080/"
        },
        "outputId": "d98f4519-188f-4eb0-c559-e21b49a8861c"
      },
      "source": [
        "import numpy as np\n",
        "import pandas as pd\n",
        "import csv\n",
        "import numpy as np\n",
        "import warnings\n",
        "warnings.filterwarnings(\"ignore\") #suppress warnings\n",
        "import matplotlib.pyplot as plt\n",
        "from sklearn.model_selection import train_test_split\n",
        "from sklearn.preprocessing import StandardScaler\n",
        "from google.colab import drive\n",
        "drive.mount('/content/drive')\n",
        "headers =  ['age', 'sex','chest_pain','resting_blood_pressure',  \n",
        "        'serum_cholestoral', 'fasting_blood_sugar', 'resting_ecg_results',\n",
        "        'max_heart_rate_achieved', 'exercise_induced_angina', 'oldpeak',\"slope of the peak\",\n",
        "        'num_of_major_vessels','thal', 'heart_disease']\n",
        "heart_df = pd.read_csv('/content/drive/My Drive/EECS738/heart.dat', sep=' ', names=headers)\n"
      ],
      "execution_count": null,
      "outputs": [
        {
          "output_type": "stream",
          "text": [
            "Mounted at /content/drive\n"
          ],
          "name": "stdout"
        }
      ]
    },
    {
      "cell_type": "code",
      "metadata": {
        "colab": {
          "base_uri": "https://localhost:8080/"
        },
        "id": "FVCnTXh13Em2",
        "outputId": "448fed6b-a8cd-406c-876a-9051e7a44dc9"
      },
      "source": [
        "#show data\n",
        "heart_df.head()\n",
        "heart_df.shape"
      ],
      "execution_count": null,
      "outputs": [
        {
          "output_type": "execute_result",
          "data": {
            "text/plain": [
              "(270, 14)"
            ]
          },
          "metadata": {
            "tags": []
          },
          "execution_count": 4
        }
      ]
    },
    {
      "cell_type": "markdown",
      "metadata": {
        "id": "zVdmKO6drVp8"
      },
      "source": [
        "data prep"
      ]
    },
    {
      "cell_type": "code",
      "metadata": {
        "id": "dOaw4AErq2iO"
      },
      "source": [
        "#binary class data case\n",
        "#convert input as np.array\n",
        "X = heart_df.drop(columns=['heart_disease'])\n",
        "#replace target class with 0 and 1 \n",
        "#1 means \"have heart disease\" and 0 means \"do not have heart disease\"\n",
        "heart_df['heart_disease'] = heart_df['heart_disease'].replace(1, 0)\n",
        "heart_df['heart_disease'] = heart_df['heart_disease'].replace(2, 1)\n",
        "\n",
        "y_label = heart_df['heart_disease'].values.reshape(X.shape[0], 1)\n",
        "\n",
        "#split data into train and test set\n",
        "Xtrain, Xtest, ytrain, ytest = train_test_split(X, y_label, test_size=0.2, random_state=2)\n",
        "\n",
        "#standardize the dataset\n",
        "sc = StandardScaler()\n",
        "sc.fit(Xtrain)\n",
        "Xtrain = sc.transform(Xtrain)\n",
        "Xtest = sc.transform(Xtest)"
      ],
      "execution_count": null,
      "outputs": []
    },
    {
      "cell_type": "markdown",
      "metadata": {
        "id": "RJC4mfvgfy2N"
      },
      "source": [
        "show data strut"
      ]
    },
    {
      "cell_type": "code",
      "metadata": {
        "id": "ohFq8EoqfyO4",
        "colab": {
          "base_uri": "https://localhost:8080/",
          "height": 275
        },
        "outputId": "bbcb6ae3-d9f3-4c0f-8362-bd3891c24104"
      },
      "source": [
        "heart_df.head()"
      ],
      "execution_count": null,
      "outputs": [
        {
          "output_type": "execute_result",
          "data": {
            "text/html": [
              "<div>\n",
              "<style scoped>\n",
              "    .dataframe tbody tr th:only-of-type {\n",
              "        vertical-align: middle;\n",
              "    }\n",
              "\n",
              "    .dataframe tbody tr th {\n",
              "        vertical-align: top;\n",
              "    }\n",
              "\n",
              "    .dataframe thead th {\n",
              "        text-align: right;\n",
              "    }\n",
              "</style>\n",
              "<table border=\"1\" class=\"dataframe\">\n",
              "  <thead>\n",
              "    <tr style=\"text-align: right;\">\n",
              "      <th></th>\n",
              "      <th>age</th>\n",
              "      <th>sex</th>\n",
              "      <th>chest_pain</th>\n",
              "      <th>resting_blood_pressure</th>\n",
              "      <th>serum_cholestoral</th>\n",
              "      <th>fasting_blood_sugar</th>\n",
              "      <th>resting_ecg_results</th>\n",
              "      <th>max_heart_rate_achieved</th>\n",
              "      <th>exercise_induced_angina</th>\n",
              "      <th>oldpeak</th>\n",
              "      <th>slope of the peak</th>\n",
              "      <th>num_of_major_vessels</th>\n",
              "      <th>thal</th>\n",
              "      <th>heart_disease</th>\n",
              "    </tr>\n",
              "  </thead>\n",
              "  <tbody>\n",
              "    <tr>\n",
              "      <th>0</th>\n",
              "      <td>70.0</td>\n",
              "      <td>1.0</td>\n",
              "      <td>4.0</td>\n",
              "      <td>130.0</td>\n",
              "      <td>322.0</td>\n",
              "      <td>0.0</td>\n",
              "      <td>2.0</td>\n",
              "      <td>109.0</td>\n",
              "      <td>0.0</td>\n",
              "      <td>2.4</td>\n",
              "      <td>2.0</td>\n",
              "      <td>3.0</td>\n",
              "      <td>3.0</td>\n",
              "      <td>1</td>\n",
              "    </tr>\n",
              "    <tr>\n",
              "      <th>1</th>\n",
              "      <td>67.0</td>\n",
              "      <td>0.0</td>\n",
              "      <td>3.0</td>\n",
              "      <td>115.0</td>\n",
              "      <td>564.0</td>\n",
              "      <td>0.0</td>\n",
              "      <td>2.0</td>\n",
              "      <td>160.0</td>\n",
              "      <td>0.0</td>\n",
              "      <td>1.6</td>\n",
              "      <td>2.0</td>\n",
              "      <td>0.0</td>\n",
              "      <td>7.0</td>\n",
              "      <td>0</td>\n",
              "    </tr>\n",
              "    <tr>\n",
              "      <th>2</th>\n",
              "      <td>57.0</td>\n",
              "      <td>1.0</td>\n",
              "      <td>2.0</td>\n",
              "      <td>124.0</td>\n",
              "      <td>261.0</td>\n",
              "      <td>0.0</td>\n",
              "      <td>0.0</td>\n",
              "      <td>141.0</td>\n",
              "      <td>0.0</td>\n",
              "      <td>0.3</td>\n",
              "      <td>1.0</td>\n",
              "      <td>0.0</td>\n",
              "      <td>7.0</td>\n",
              "      <td>1</td>\n",
              "    </tr>\n",
              "    <tr>\n",
              "      <th>3</th>\n",
              "      <td>64.0</td>\n",
              "      <td>1.0</td>\n",
              "      <td>4.0</td>\n",
              "      <td>128.0</td>\n",
              "      <td>263.0</td>\n",
              "      <td>0.0</td>\n",
              "      <td>0.0</td>\n",
              "      <td>105.0</td>\n",
              "      <td>1.0</td>\n",
              "      <td>0.2</td>\n",
              "      <td>2.0</td>\n",
              "      <td>1.0</td>\n",
              "      <td>7.0</td>\n",
              "      <td>0</td>\n",
              "    </tr>\n",
              "    <tr>\n",
              "      <th>4</th>\n",
              "      <td>74.0</td>\n",
              "      <td>0.0</td>\n",
              "      <td>2.0</td>\n",
              "      <td>120.0</td>\n",
              "      <td>269.0</td>\n",
              "      <td>0.0</td>\n",
              "      <td>2.0</td>\n",
              "      <td>121.0</td>\n",
              "      <td>1.0</td>\n",
              "      <td>0.2</td>\n",
              "      <td>1.0</td>\n",
              "      <td>1.0</td>\n",
              "      <td>3.0</td>\n",
              "      <td>0</td>\n",
              "    </tr>\n",
              "  </tbody>\n",
              "</table>\n",
              "</div>"
            ],
            "text/plain": [
              "    age  sex  chest_pain  ...  num_of_major_vessels  thal  heart_disease\n",
              "0  70.0  1.0         4.0  ...                   3.0   3.0              1\n",
              "1  67.0  0.0         3.0  ...                   0.0   7.0              0\n",
              "2  57.0  1.0         2.0  ...                   0.0   7.0              1\n",
              "3  64.0  1.0         4.0  ...                   1.0   7.0              0\n",
              "4  74.0  0.0         2.0  ...                   1.0   3.0              0\n",
              "\n",
              "[5 rows x 14 columns]"
            ]
          },
          "metadata": {
            "tags": []
          },
          "execution_count": 55
        }
      ]
    },
    {
      "cell_type": "code",
      "metadata": {
        "colab": {
          "base_uri": "https://localhost:8080/"
        },
        "id": "xfzxRHnVbefN",
        "outputId": "ff141977-3342-4a78-fb90-3c734eacd099"
      },
      "source": [
        "print(f\"Shape of train set is {Xtrain.shape}\")\n",
        "print(f\"Shape of test set is {Xtest.shape}\")\n",
        "print(f\"Shape of train label is {ytrain.shape}\")\n",
        "print(f\"Shape of test labels is {ytest.shape}\")"
      ],
      "execution_count": null,
      "outputs": [
        {
          "output_type": "stream",
          "text": [
            "Shape of train set is (216, 13)\n",
            "Shape of test set is (54, 13)\n",
            "Shape of train label is (216, 1)\n",
            "Shape of test labels is (54, 1)\n"
          ],
          "name": "stdout"
        }
      ]
    },
    {
      "cell_type": "markdown",
      "metadata": {
        "id": "2Y5JUrzUsvx7"
      },
      "source": [
        "activation func"
      ]
    },
    {
      "cell_type": "code",
      "metadata": {
        "id": "Xej72JYes8Qn"
      },
      "source": [
        "def ReLu(x):\n",
        "  return np.maximum(0.0, x)\n",
        "\n",
        "def dReLu(x):\n",
        "  x[x<=0] = 0\n",
        "  x[x>0] = 1\n",
        "  return x\n",
        "\n",
        "def sigmoid(Z):\n",
        "  '''\n",
        "  The sigmoid function takes in real numbers in any range and \n",
        "  squashes it to a real-valued output between 0 and 1.\n",
        "  '''\n",
        "  return 1/(1+np.exp(-Z))\n",
        "\n",
        "def dsigmoid(Z):\n",
        "  sig = sigmoid(Z);\n",
        "  return sig * (1.0 - sig);  "
      ],
      "execution_count": null,
      "outputs": []
    },
    {
      "cell_type": "markdown",
      "metadata": {
        "id": "0ietCREP0TqK"
      },
      "source": [
        "NN structure"
      ]
    },
    {
      "cell_type": "code",
      "metadata": {
        "id": "y2FhYnPC0Srz"
      },
      "source": [
        "class NN():\n",
        "\n",
        "  def __init__(self, layers=[13,8,1], learning_rate=0.001, iterations=100):\n",
        "    self.params = {}\n",
        "    self.learning_rate = learning_rate\n",
        "    self.iterations = iterations\n",
        "    self.loss = []\n",
        "    self.sample_size = None\n",
        "    self.layers = layers\n",
        "    self.X = None\n",
        "    self.y = None\n",
        "\n",
        "  def init_weights(self):\n",
        "    np.random.seed(1) # Seed the random number generator\n",
        "    self.params[\"W1\"] = np.random.randn(self.layers[0],self.layers[1]) \n",
        "    self.params['b1'] = np.random.randn(self.layers[1],)\n",
        "    self.params['W2'] = np.random.randn(self.layers[1],self.layers[2]) \n",
        "    self.params['b2'] = np.random.randn(self.layers[2],)\n",
        " \n",
        "  \n",
        "  def eta(self, x):\n",
        "    ETA = 0.0000000001\n",
        "    return np.maximum(x, ETA)\n",
        "\n",
        "  def entropy_loss(self,y, yhat):\n",
        "    nsample = len(y)\n",
        "    yhat_inv = 1.0 - yhat\n",
        "    y_inv = 1.0 - y\n",
        "    yhat = self.eta(yhat) ## clips value to avoid NaNs in log\n",
        "    yhat_inv = self.eta(yhat_inv) \n",
        "    loss = -1/nsample * (np.sum(np.multiply(np.log(yhat), y) + np.multiply((y_inv), np.log(yhat_inv))))\n",
        "    return loss\n",
        "  \n",
        "  def ReLu(self,Z):\n",
        "    return np.maximum(0.0, Z)\n",
        "\n",
        "  def dReLu(self,x):\n",
        "    x[x<=0] = 0\n",
        "    x[x>0] = 1\n",
        "    return x\n",
        "\n",
        "  def sigmoid(self,Z):\n",
        "    '''\n",
        "    The sigmoid function takes in real numbers in any range and \n",
        "    squashes it to a real-valued output between 0 and 1.\n",
        "    '''\n",
        "    return 1/(1+np.exp(-Z))\n",
        "\n",
        "  def dsigmoid(self,Z):\n",
        "    sig = sigmoid(Z);\n",
        "    return sig * (1.0 - sig); \n",
        "\n",
        "  def forward(self):\n",
        "    # self.layer = ReLu(np.dot(self.input, self.weights1))\n",
        "    # self.output = ReLu(np.dot(self.layer, self.weights2))\n",
        "    Z1 = self.X.dot(self.params['W1']) + self.params['b1']\n",
        "    A1 = self.ReLu(Z1)\n",
        "    Z2 = A1.dot(self.params['W2']) + self.params['b2']\n",
        "    yhat = self.sigmoid(Z2)\n",
        "    loss = self.entropy_loss(self.y,yhat)\n",
        "\n",
        "    # save calculated parameters in dictionary    \n",
        "    self.params['Z1'] = Z1\n",
        "    self.params['Z2'] = Z2\n",
        "    self.params['A1'] = A1\n",
        "\n",
        "    return yhat,loss\n",
        "\n",
        "  def backward(self, yhat):\n",
        "    '''\n",
        "    Computes the derivatives and update weights and bias according.\n",
        "    '''\n",
        "    y_inv = 1 - self.y\n",
        "    yhat_inv = 1 - yhat\n",
        "    \n",
        "    # the loss with respect to\n",
        "    dl_wrt_yhat = np.divide(y_inv, self.eta(yhat_inv)) - np.divide(self.y, self.eta(yhat))\n",
        "    dl_wrt_sig = yhat * (yhat_inv)\n",
        "    dl_wrt_z2 = dl_wrt_yhat * dl_wrt_sig\n",
        "\n",
        "    dl_wrt_A1 = dl_wrt_z2.dot(self.params['W2'].T)\n",
        "    dl_wrt_w2 = self.params['A1'].T.dot(dl_wrt_z2)\n",
        "    dl_wrt_b2 = np.sum(dl_wrt_z2, axis=0, keepdims=True)\n",
        "\n",
        "    dl_wrt_z1 = dl_wrt_A1 * self.dReLu(self.params['Z1'])\n",
        "    dl_wrt_w1 = self.X.T.dot(dl_wrt_z1)\n",
        "    dl_wrt_b1 = np.sum(dl_wrt_z1, axis=0, keepdims=True)\n",
        "\n",
        "    #update the weights and bias\n",
        "    self.params['W1'] = self.params['W1'] - self.learning_rate * dl_wrt_w1\n",
        "    self.params['W2'] = self.params['W2'] - self.learning_rate * dl_wrt_w2\n",
        "    self.params['b1'] = self.params['b1'] - self.learning_rate * dl_wrt_b1\n",
        "    self.params['b2'] = self.params['b2'] - self.learning_rate * dl_wrt_b2\n",
        "\n",
        "  def fit(self, X, y):\n",
        "    '''\n",
        "    Trains the neural network using the specified data and labels in iteration\n",
        "    '''\n",
        "    self.X = X\n",
        "    self.y = y\n",
        "    self.init_weights() #initialize weights and bias\n",
        "\n",
        "    for i in range(self.iterations):\n",
        "        yhat, loss = self.forward()\n",
        "        self.backward(yhat)\n",
        "        self.loss.append(loss)\n",
        "  \n",
        "  def predict(self, X):\n",
        "    '''\n",
        "    Predicts on a test data\n",
        "    '''\n",
        "    Z1 = X.dot(self.params['W1']) + self.params['b1']\n",
        "    A1 = self.ReLu(Z1)\n",
        "    Z2 = A1.dot(self.params['W2']) + self.params['b2']\n",
        "    pred = self.sigmoid(Z2)\n",
        "    return np.round(pred)  \n",
        "\n",
        "  def cal_acc(self,y,yhat):\n",
        "    '''\n",
        "    Calculates the accutacy between the predicted valuea and the truth labels\n",
        "    '''\n",
        "    acc = int(sum(y == yhat) / len(y) * 100)\n",
        "    return acc    \n",
        "\n",
        "  def plot_loss(self):\n",
        "    '''\n",
        "    Plots the loss curve\n",
        "    '''\n",
        "    plt.plot(self.loss)\n",
        "    plt.xlabel(\"Iteration\")\n",
        "    plt.ylabel(\"logloss\")\n",
        "    plt.title(\"Loss curve for training\")\n",
        "    plt.show()  "
      ],
      "execution_count": null,
      "outputs": []
    },
    {
      "cell_type": "markdown",
      "metadata": {
        "id": "-N0vBLhTHnDW"
      },
      "source": [
        "**loss functions:**\n",
        "\n",
        "A loss function must be properly designed so that it can correctly penalize a model that is wrong and reward a model that is right.\n",
        "\n",
        "One of the simplest loss functions used in deep learning is MSE, or mean square error\n",
        "\n",
        "```\n",
        "def nloss(self,Yh):\n",
        "        loss = (1./self.sam) * (-np.dot(self.Y,np.log(Yh).T) - np.dot(1-self.Y, np.log(1-Yh).T))    \n",
        "        return loss\n",
        "```\n",
        "for classification problems, you can use cross-entropy loss\n",
        "\n",
        "\n",
        "\n",
        "```\n",
        "def eta(self, x):\n",
        "  ETA = 0.0000000001\n",
        "  return np.maximum(x, ETA)\n",
        "\n",
        "def entropy_loss(self,y, yhat):\n",
        "    nsample = len(y)\n",
        "    yhat_inv = 1.0 - yhat\n",
        "    y_inv = 1.0 - y\n",
        "    yhat = self.eta(yhat) ## clips value to avoid NaNs in log\n",
        "    yhat_inv = self.eta(yhat_inv) \n",
        "    loss = -1/nsample * (np.sum(np.multiply(np.log(yhat), y) + np.multiply((y_inv), np.log(yhat_inv))))\n",
        "    return loss\n",
        "```\n",
        "\n",
        "\n"
      ]
    },
    {
      "cell_type": "markdown",
      "metadata": {
        "id": "qEY5aqND-USu"
      },
      "source": [
        "demo on heart data"
      ]
    },
    {
      "cell_type": "markdown",
      "metadata": {
        "id": "P8cd-_gjSf6h"
      },
      "source": [
        "training phase"
      ]
    },
    {
      "cell_type": "code",
      "metadata": {
        "id": "JK5zMsRbRhZs",
        "colab": {
          "base_uri": "https://localhost:8080/",
          "height": 295
        },
        "outputId": "b66d3eab-a8c7-4021-895c-d21016b041fb"
      },
      "source": [
        "nn = NN(layers=[13,7,1], learning_rate=0.01, iterations=1000) #create NN model\n",
        "nn.fit(Xtrain, ytrain)\n",
        "nn.plot_loss()"
      ],
      "execution_count": null,
      "outputs": [
        {
          "output_type": "display_data",
          "data": {
            "image/png": "[encoded data removed]",
            "text/plain": [
              "<Figure size 432x288 with 1 Axes>"
            ]
          },
          "metadata": {
            "tags": [],
            "needs_background": "light"
          }
        }
      ]
    },
    {
      "cell_type": "markdown",
      "metadata": {
        "id": "3JN4IVziSjTW"
      },
      "source": [
        "testing phase"
      ]
    },
    {
      "cell_type": "code",
      "metadata": {
        "colab": {
          "base_uri": "https://localhost:8080/"
        },
        "id": "jGRfY4_JSkt3",
        "outputId": "5cd23eb0-db35-40c9-ecc7-56f289b135e5"
      },
      "source": [
        "train_pred = nn.predict(Xtrain)\n",
        "test_pred = nn.predict(Xtest)\n",
        "\n",
        "print(\"Train accuracy is {} %\".format(nn.cal_acc(ytrain, train_pred)))\n",
        "print(\"Test accuracy is {} %\".format(nn.cal_acc(ytest, test_pred)))"
      ],
      "execution_count": null,
      "outputs": [
        {
          "output_type": "stream",
          "text": [
            "Train accuracy is 98 %\n",
            "Test accuracy is 74 %\n"
          ],
          "name": "stdout"
        }
      ]
    },
    {
      "cell_type": "markdown",
      "metadata": {
        "id": "9fN_usVG-Ssd"
      },
      "source": [
        ""
      ]
    }
  ]
}